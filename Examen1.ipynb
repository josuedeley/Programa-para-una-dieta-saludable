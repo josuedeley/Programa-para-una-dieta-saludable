{
  "nbformat": 4,
  "nbformat_minor": 0,
  "metadata": {
    "colab": {
      "provenance": []
    },
    "kernelspec": {
      "name": "python3",
      "display_name": "Python 3"
    },
    "language_info": {
      "name": "python"
    }
  },
  "cells": [
    {
      "cell_type": "code",
      "source": [
        "!pip install deap"
      ],
      "metadata": {
        "colab": {
          "base_uri": "https://localhost:8080/"
        },
        "id": "4Cd6sji8rriO",
        "outputId": "212716e3-400a-4ed6-be08-3ed479b98259"
      },
      "execution_count": null,
      "outputs": [
        {
          "output_type": "stream",
          "name": "stdout",
          "text": [
            "Collecting deap\n",
            "  Downloading deap-1.4.1-cp310-cp310-manylinux_2_5_x86_64.manylinux1_x86_64.manylinux_2_17_x86_64.manylinux2014_x86_64.whl.metadata (13 kB)\n",
            "Requirement already satisfied: numpy in /usr/local/lib/python3.10/dist-packages (from deap) (1.26.4)\n",
            "Downloading deap-1.4.1-cp310-cp310-manylinux_2_5_x86_64.manylinux1_x86_64.manylinux_2_17_x86_64.manylinux2014_x86_64.whl (135 kB)\n",
            "\u001b[2K   \u001b[90m━━━━━━━━━━━━━━━━━━━━━━━━━━━━━━━━━━━━━━━━\u001b[0m \u001b[32m135.4/135.4 kB\u001b[0m \u001b[31m1.6 MB/s\u001b[0m eta \u001b[36m0:00:00\u001b[0m\n",
            "\u001b[?25hInstalling collected packages: deap\n",
            "Successfully installed deap-1.4.1\n"
          ]
        }
      ]
    },
    {
      "cell_type": "code",
      "execution_count": 44,
      "metadata": {
        "colab": {
          "base_uri": "https://localhost:8080/"
        },
        "id": "_-i2UqGyrCrp",
        "outputId": "dedd136a-255c-4f0e-c222-0bc91b01e185"
      },
      "outputs": [
        {
          "output_type": "stream",
          "name": "stdout",
          "text": [
            "Combinación de alimentos inicial:\n",
            "\n",
            "Población Inicial:\n",
            "[[6, 1, 6, 1, 4, 0], [2, 3, 2, 6, 5, 1], [0, 1, 2, 6, 2, 4], [1, 4, 6, 6, 0, 3], [6, 4, 4, 5, 3, 0], [1, 2, 0, 4, 4, 0], [2, 4, 1, 2, 1, 5], [6, 5, 6, 3, 2, 3], [2, 5, 6, 6, 6, 0], [4, 1, 2, 2, 1, 2], [5, 4, 3, 5, 1, 4], [4, 3, 0, 5, 6, 3], [5, 4, 4, 4, 2, 1], [3, 5, 5, 6, 3, 4], [4, 5, 0, 3, 4, 6], [2, 2, 1, 6, 5, 3], [6, 3, 3, 3, 3, 4], [3, 2, 0, 5, 0, 2], [5, 5, 2, 3, 1, 0], [5, 4, 1, 2, 5, 6], [1, 0, 1, 1, 6, 6], [0, 2, 0, 2, 1, 3], [3, 5, 3, 0, 0, 3], [2, 0, 1, 0, 3, 2], [6, 5, 1, 0, 4, 0], [1, 3, 6, 6, 5, 2], [2, 3, 4, 4, 6, 6], [2, 6, 1, 4, 6, 5], [3, 1, 5, 4, 2, 0], [3, 3, 3, 3, 3, 0], [3, 0, 3, 4, 4, 1], [3, 5, 5, 0, 0, 6], [2, 3, 2, 3, 2, 0], [3, 3, 2, 6, 2, 5], [6, 3, 4, 3, 1, 1], [1, 2, 3, 4, 0, 4], [4, 0, 6, 2, 1, 3], [0, 0, 4, 0, 5, 2], [1, 1, 6, 6, 0, 3], [5, 1, 4, 3, 4, 3], [4, 3, 6, 2, 1, 6], [0, 3, 5, 0, 2, 5], [4, 5, 0, 6, 5, 3], [1, 4, 1, 6, 5, 1], [4, 4, 5, 0, 1, 0], [5, 4, 1, 3, 1, 0], [6, 5, 2, 6, 3, 4], [3, 5, 2, 5, 3, 2], [1, 6, 5, 6, 0, 2], [0, 2, 0, 4, 2, 5]]\n",
            "\n",
            "Mejor combinación de alimentos:\n",
            "Carne: 0 porciones\n",
            "Pollo: 0 porciones\n",
            "Cerdo: 4 porciones\n",
            "Pescado: 0 porciones\n",
            "Pan: 5 porciones\n",
            "Quinoa: 2 porciones\n",
            "Máximas proteínas: 149.0g\n"
          ]
        }
      ],
      "source": [
        "import random\n",
        "\n",
        "# Datos de alimentos: (proteínas, costo)\n",
        "foods = {\n",
        "    \"Carne\": (22.5, 1.4),\n",
        "    \"Pollo\": (22.5, 1.58),\n",
        "    \"Cerdo\": (20, 1),\n",
        "    \"Pescado\": (20, 0.87),\n",
        "    \"Pan\": (7, 1),\n",
        "    \"Quinoa\": (17, 0.26)\n",
        "}\n",
        "\n",
        "lVectorObjetivo = len(foods)  # Longitud del vector (número de alimentos)\n",
        "POBLACION_TAMANO = 50  # Tamaño de la población\n",
        "pressure = 3  # Cantidad de individuos seleccionados para reproducción\n",
        "mutation_chance = 0.2  # Probabilidad de mutación\n",
        "costo_maximo = 10  # Restricción de costo máximo\n",
        "\n",
        "def individuo(min, max):\n",
        "    \"\"\"\n",
        "        Crea un individuo (combinación de porciones de alimentos)\n",
        "    \"\"\"\n",
        "    return [random.randint(min, max) for i in range(lVectorObjetivo)]\n",
        "\n",
        "def crearPoblacion():\n",
        "    \"\"\"\n",
        "        Crea una población nueva de individuos\n",
        "    \"\"\"\n",
        "    return [individuo(0, 6) for i in range(POBLACION_TAMANO)]\n",
        "\n",
        "def calcularFitness(individuo):\n",
        "    \"\"\"\n",
        "        Calcula el fitness de un individuo, maximizando las proteínas sin exceder el costo.\n",
        "    \"\"\"\n",
        "    total_proteins = 0\n",
        "    total_cost = 0\n",
        "\n",
        "    for i, food in enumerate(foods):\n",
        "        quantity = individuo[i]\n",
        "        proteins, cost = foods[food]\n",
        "        total_proteins += proteins * quantity\n",
        "        total_cost += cost * quantity\n",
        "\n",
        "    # Penalización si el costo excede el máximo\n",
        "    if total_cost > costo_maximo or total_proteins > 150:\n",
        "        return 0\n",
        "\n",
        "    return total_proteins\n",
        "\n",
        "def selection_and_reproduction(population):\n",
        "    \"\"\"\n",
        "        Selecciona los mejores individuos, realiza el cruce y reproducción para crear una nueva generación.\n",
        "    \"\"\"\n",
        "    puntuados = [(calcularFitness(i), i) for i in population]  # Calcular el fitness de cada individuo\n",
        "    puntuados = [i[1] for i in sorted(puntuados)]  # Ordenar por fitness\n",
        "    population = puntuados\n",
        "\n",
        "    selected = puntuados[(len(puntuados)-pressure):]  # Selección de los mejores individuos\n",
        "\n",
        "    # Cruce genético\n",
        "    for i in range(len(population) - pressure):\n",
        "        punto = random.randint(1, lVectorObjetivo - 1)  # Punto de cruce\n",
        "        padres = random.sample(selected, 2)  # Selección de dos padres\n",
        "        population[i][:punto] = padres[0][:punto]  # Mezcla genética\n",
        "        population[i][punto:] = padres[1][punto:]\n",
        "\n",
        "    return population\n",
        "\n",
        "def mutation(population):\n",
        "    \"\"\"\n",
        "        Aplica mutaciones aleatorias a los individuos.\n",
        "    \"\"\"\n",
        "    for i in range(len(population) - pressure):\n",
        "        if random.random() <= mutation_chance:\n",
        "            punto = random.randint(0, lVectorObjetivo - 1)  # Punto de mutación\n",
        "            nuevo_valor = random.randint(0, 5)  # Nuevo valor para el punto seleccionado\n",
        "\n",
        "            # Evitar que el nuevo valor sea igual al anterior\n",
        "            while nuevo_valor == population[i][punto]:\n",
        "                nuevo_valor = random.randint(0, 5)\n",
        "\n",
        "            population[i][punto] = nuevo_valor\n",
        "\n",
        "    return population\n",
        "\n",
        "# Ejecutar el algoritmo evolutivo\n",
        "print(\"Combinación de alimentos inicial:\\n\")\n",
        "\n",
        "population = crearPoblacion()  # Inicializar la población\n",
        "print(f\"Población Inicial:\\n{population}\")\n",
        "\n",
        "# Evolucionar la población\n",
        "for i in range(20):\n",
        "    population = selection_and_reproduction(population)\n",
        "    population = mutation(population)\n",
        "\n",
        "# Encontrar el mejor individuo\n",
        "best_individual = max(population, key=calcularFitness)\n",
        "\n",
        "# Mostrar resultados\n",
        "print(\"\\nMejor combinación de alimentos:\")\n",
        "for i, food in enumerate(foods):\n",
        "    print(f\"{food}: {best_individual[i]} porciones\")\n",
        "\n",
        "print(f\"Máximas proteínas: {calcularFitness(best_individual)}g\")\n"
      ]
    }
  ]
}